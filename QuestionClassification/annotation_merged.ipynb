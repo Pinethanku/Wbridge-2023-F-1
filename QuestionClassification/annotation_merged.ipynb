{
 "cells": [
  {
   "cell_type": "markdown",
   "metadata": {},
   "source": [
    "# Merge test2015 json files"
   ]
  },
  {
   "cell_type": "code",
   "execution_count": 18,
   "metadata": {},
   "outputs": [],
   "source": [
    "# json 파일 두 개 불러오기\n",
    "import json\n",
    "\n",
    "# no question\n",
    "with open('/home/public/yunvqa/clip/clip/dataset/TDIUC/tdiuc/raw/annotations/mscoco_test2015_annotations.json','r') as f:\n",
    "    a_json_data=json.load(f)\n",
    "\n",
    "# question data\n",
    "with open('/home/public/yunvqa/clip/clip/dataset/TDIUC/tdiuc/raw/annotations/OpenEnded_mscoco_test2015_questions.json','r') as f:\n",
    "    q_json_data=json.load(f)\n"
   ]
  },
  {
   "cell_type": "code",
   "execution_count": 4,
   "metadata": {},
   "outputs": [],
   "source": [
    "annotations=a_json_data['annotations']\n",
    "\n",
    "questions=q_json_data['questions']\n",
    "\n",
    "question_dict={}\n",
    "\n",
    "for data in questions:\n",
    "    image_id=data['image_id']\n",
    "    question_id=data['question_id']\n",
    "    question_text=data['question']\n",
    "    question_dict[(image_id,question_id)]=question_text\n",
    "\n",
    "new_annotations=[]\n",
    "\n",
    "new_annotations = []\n",
    "for annotation in annotations:\n",
    "    question_id = annotation['question_id']\n",
    "    image_id = annotation['image_id']\n",
    "    question_text = question_dict.get((image_id, question_id), None)\n",
    "    if question_text:\n",
    "        annotation['question'] = question_text\n",
    "        new_annotations.append(annotation)\n",
    "\n"
   ]
  },
  {
   "cell_type": "code",
   "execution_count": 5,
   "metadata": {},
   "outputs": [],
   "source": [
    "saved_path='/home/public/yunvqa/clip/preprocess/mscoco_test2015_merged.json'\n",
    "\n",
    "with open(saved_path,'w') as new_file:\n",
    "    json.dump(new_annotations,new_file,indent=4)"
   ]
  },
  {
   "cell_type": "code",
   "execution_count": 6,
   "metadata": {},
   "outputs": [],
   "source": [
    "# Check merged file\n",
    "import json \n",
    "\n",
    "saved_path='/home/public/yunvqa/clip/preprocess/mscoco_test2015_merged.json'\n",
    "\n",
    "with open(saved_path,'r') as f:\n",
    "    merged_json_data=json.load(f)\n"
   ]
  },
  {
   "cell_type": "code",
   "execution_count": 7,
   "metadata": {},
   "outputs": [
    {
     "name": "stdout",
     "output_type": "stream",
     "text": [
      "{'question_type': 'object_presence', 'image_id': 468456, 'ans_source': 'generation', 'answers': [{'answer': 'yes', 'answer_confidence': 'yes', 'answer_id': 1}], 'question_id': 10191019, 'question': 'Is there a person in the photo?'}\n",
      "{'question_type': 'counting', 'image_id': 139097, 'ans_source': 'transfer', 'answers': [{'answer': 'one', 'answer_confidence': 'yes', 'answer_id': 1}], 'question_id': 30302660, 'question': 'How many sinks are there?'}\n",
      "{'question_type': 'absurd', 'image_id': 277717, 'ans_source': 'generation', 'answers': [{'answer': 'doesnotapply', 'answer_confidence': 'yes', 'answer_id': 1}], 'question_id': 10402890, 'question': 'What color is the baby elephant on the right?'}\n"
     ]
    }
   ],
   "source": [
    "for i in range(3):\n",
    "    print(merged_json_data[i])"
   ]
  },
  {
   "cell_type": "code",
   "execution_count": 8,
   "metadata": {},
   "outputs": [
    {
     "name": "stdout",
     "output_type": "stream",
     "text": [
      "새로운 json파일이 작성됨\n"
     ]
    }
   ],
   "source": [
    "# Add encoded_question_type\n",
    "with open(saved_path,'r') as f:\n",
    "    new_annotation=json.load(f)\n",
    "\n",
    "int2label = {\n",
    "    \"color\": 0,\n",
    "    \"object_presence\": 1,\n",
    "    \"absurd\": 2,\n",
    "    \"counting\": 3,\n",
    "    \"scene_recognition\": 4,\n",
    "    \"object_recognition\": 5,\n",
    "    \"positional_reasoning\": 6,\n",
    "    \"attribute\": 7,\n",
    "    \"sport_recognition\": 8,\n",
    "    \"activity_recognition\": 9,\n",
    "    \"sentiment_understanding\": 10,\n",
    "    \"utility_affordance\": 11\n",
    "}\n",
    "\n",
    "for ann in new_annotation:\n",
    "    question_type=ann['question_type']\n",
    "    encoded_question_type=int2label.get(question_type,'-1')\n",
    "    ann['encoded_question_type']=encoded_question_type\n",
    "\n",
    "with open(saved_path,'w') as new_file:\n",
    "    json.dump(new_annotation,new_file,indent=4)\n",
    "\n",
    "print('새로운 json파일이 작성됨')"
   ]
  },
  {
   "cell_type": "code",
   "execution_count": 9,
   "metadata": {},
   "outputs": [
    {
     "name": "stdout",
     "output_type": "stream",
     "text": [
      "{'question_type': 'object_presence', 'image_id': 468456, 'ans_source': 'generation', 'answers': [{'answer': 'yes', 'answer_confidence': 'yes', 'answer_id': 1}], 'question_id': 10191019, 'question': 'Is there a person in the photo?', 'encoded_question_type': 1}\n",
      "{'question_type': 'counting', 'image_id': 139097, 'ans_source': 'transfer', 'answers': [{'answer': 'one', 'answer_confidence': 'yes', 'answer_id': 1}], 'question_id': 30302660, 'question': 'How many sinks are there?', 'encoded_question_type': 3}\n",
      "{'question_type': 'absurd', 'image_id': 277717, 'ans_source': 'generation', 'answers': [{'answer': 'doesnotapply', 'answer_confidence': 'yes', 'answer_id': 1}], 'question_id': 10402890, 'question': 'What color is the baby elephant on the right?', 'encoded_question_type': 2}\n",
      "{'question_type': 'counting', 'image_id': 92391298, 'ans_source': 'transfer', 'answers': [{'answer': 'two', 'answer_confidence': 'yes', 'answer_id': 1}], 'question_id': 30262710, 'question': 'How many umbrellas are there?', 'encoded_question_type': 3}\n",
      "{'question_type': 'color', 'image_id': 92321938, 'ans_source': 'transfer', 'answers': [{'answer': 'white', 'answer_confidence': 'yes', 'answer_id': 1}], 'question_id': 30315603, 'question': 'What color is the airplane?', 'encoded_question_type': 0}\n"
     ]
    }
   ],
   "source": [
    "#Check final merged json file\n",
    "import json \n",
    "\n",
    "saved_path='/home/public/yunvqa/clip/preprocess/mscoco_test2015_merged.json'\n",
    "\n",
    "with open(saved_path,'r') as f:\n",
    "    merged_json_data=json.load(f)\n",
    "\n",
    "\n",
    "for i in range(5):\n",
    "    print(merged_json_data[i])"
   ]
  },
  {
   "cell_type": "markdown",
   "metadata": {},
   "source": [
    "# Merge train2014 json files"
   ]
  },
  {
   "cell_type": "code",
   "execution_count": 10,
   "metadata": {},
   "outputs": [],
   "source": [
    "# mscoco_train2014_merged.json 파일도 생성\n",
    "\n",
    "# json 파일 두 개 불러오기\n",
    "import json\n",
    "\n",
    "# no question\n",
    "with open('/home/public/yunvqa/clip/clip/dataset/TDIUC/tdiuc/raw/annotations/mscoco_train2014_annotations.json','r') as f:\n",
    "    a_json_data=json.load(f)\n",
    "\n",
    "# question data\n",
    "with open('/home/public/yunvqa/clip/clip/dataset/TDIUC/tdiuc/raw/annotations/OpenEnded_mscoco_train2014_questions.json','r') as f:\n",
    "    q_json_data=json.load(f)\n"
   ]
  },
  {
   "cell_type": "code",
   "execution_count": 12,
   "metadata": {},
   "outputs": [],
   "source": [
    "annotations=a_json_data['annotations']\n",
    "\n",
    "questions=q_json_data['questions']\n",
    "\n",
    "question_dict={}\n",
    "\n",
    "for data in questions:\n",
    "    image_id=data['image_id']\n",
    "    question_id=data['question_id']\n",
    "    question_text=data['question']\n",
    "    question_dict[(image_id,question_id)]=question_text\n",
    "\n",
    "new_annotations=[]\n",
    "\n",
    "new_annotations = []\n",
    "for annotation in annotations:\n",
    "    question_id = annotation['question_id']\n",
    "    image_id = annotation['image_id']\n",
    "    question_text = question_dict.get((image_id, question_id), None)\n",
    "    if question_text:\n",
    "        annotation['question'] = question_text\n",
    "        new_annotations.append(annotation)\n"
   ]
  },
  {
   "cell_type": "code",
   "execution_count": 13,
   "metadata": {},
   "outputs": [],
   "source": [
    "saved_path='/home/public/yunvqa/clip/preprocess/mscoco_train2014_merged.json'\n",
    "\n",
    "with open(saved_path,'w') as new_file:\n",
    "    json.dump(new_annotations,new_file,indent=4)"
   ]
  },
  {
   "cell_type": "code",
   "execution_count": 14,
   "metadata": {},
   "outputs": [],
   "source": [
    "# 확인\n",
    "import json \n",
    "\n",
    "saved_path='/home/public/yunvqa/clip/preprocess/mscoco_train2014_merged.json'\n",
    "\n",
    "with open(saved_path,'r') as f:\n",
    "    merged_json_data=json.load(f)\n"
   ]
  },
  {
   "cell_type": "code",
   "execution_count": 15,
   "metadata": {},
   "outputs": [
    {
     "name": "stdout",
     "output_type": "stream",
     "text": [
      "{'question_type': 'color', 'image_id': 309086, 'ans_source': 'transfer', 'answers': [{'answer': 'black', 'answer_confidence': 'yes', 'answer_id': 1}], 'question_id': 30002873, 'question': \"What color handle does the middle man's racquet have?\"}\n",
      "{'question_type': 'object_presence', 'image_id': 5277, 'ans_source': 'generation', 'answers': [{'answer': 'no', 'answer_confidence': 'yes', 'answer_id': 1}], 'question_id': 10026521, 'question': 'Are there any couches in the photo?'}\n",
      "{'question_type': 'absurd', 'image_id': 523968, 'ans_source': 'generation', 'answers': [{'answer': 'doesnotapply', 'answer_confidence': 'yes', 'answer_id': 1}], 'question_id': 10889157, 'question': 'What color is the bed sheets?'}\n"
     ]
    }
   ],
   "source": [
    "for i in range(3):\n",
    "    print(merged_json_data[i])"
   ]
  },
  {
   "cell_type": "code",
   "execution_count": 16,
   "metadata": {},
   "outputs": [
    {
     "name": "stdout",
     "output_type": "stream",
     "text": [
      "새로운 json파일이 작성됨\n"
     ]
    }
   ],
   "source": [
    "with open(saved_path,'r') as f:\n",
    "    new_annotation=json.load(f)\n",
    "\n",
    "int2label = {\n",
    "    \"color\": 0,\n",
    "    \"object_presence\": 1,\n",
    "    \"absurd\": 2,\n",
    "    \"counting\": 3,\n",
    "    \"scene_recognition\": 4,\n",
    "    \"object_recognition\": 5,\n",
    "    \"positional_reasoning\": 6,\n",
    "    \"attribute\": 7,\n",
    "    \"sport_recognition\": 8,\n",
    "    \"activity_recognition\": 9,\n",
    "    \"sentiment_understanding\": 10,\n",
    "    \"utility_affordance\": 11\n",
    "}\n",
    "\n",
    "for ann in new_annotation:\n",
    "    question_type=ann['question_type']\n",
    "    encoded_question_type=int2label.get(question_type,'-1')\n",
    "    ann['encoded_question_type']=encoded_question_type\n",
    "\n",
    "with open(saved_path,'w') as new_file:\n",
    "    json.dump(new_annotation,new_file,indent=4)\n",
    "\n",
    "print('새로운 json파일이 작성됨')"
   ]
  },
  {
   "cell_type": "code",
   "execution_count": 17,
   "metadata": {},
   "outputs": [
    {
     "name": "stdout",
     "output_type": "stream",
     "text": [
      "{'question_type': 'color', 'image_id': 309086, 'ans_source': 'transfer', 'answers': [{'answer': 'black', 'answer_confidence': 'yes', 'answer_id': 1}], 'question_id': 30002873, 'question': \"What color handle does the middle man's racquet have?\", 'encoded_question_type': 0}\n",
      "{'question_type': 'object_presence', 'image_id': 5277, 'ans_source': 'generation', 'answers': [{'answer': 'no', 'answer_confidence': 'yes', 'answer_id': 1}], 'question_id': 10026521, 'question': 'Are there any couches in the photo?', 'encoded_question_type': 1}\n",
      "{'question_type': 'absurd', 'image_id': 523968, 'ans_source': 'generation', 'answers': [{'answer': 'doesnotapply', 'answer_confidence': 'yes', 'answer_id': 1}], 'question_id': 10889157, 'question': 'What color is the bed sheets?', 'encoded_question_type': 2}\n",
      "{'question_type': 'color', 'image_id': 438377, 'ans_source': 'transfer', 'answers': [{'answer': 'red', 'answer_confidence': 'yes', 'answer_id': 1}], 'question_id': 30107564, 'question': 'What color is in the bike?', 'encoded_question_type': 0}\n",
      "{'question_type': 'object_presence', 'image_id': 163171, 'ans_source': 'generation', 'answers': [{'answer': 'no', 'answer_confidence': 'yes', 'answer_id': 1}], 'question_id': 10317265, 'question': 'Are there any snowboards in the photo?', 'encoded_question_type': 1}\n"
     ]
    }
   ],
   "source": [
    "# encoded 확인\n",
    "# 확인\n",
    "import json \n",
    "\n",
    "saved_path='/home/public/yunvqa/clip/preprocess/mscoco_train2014_merged.json'\n",
    "\n",
    "with open(saved_path,'r') as f:\n",
    "    merged_json_data=json.load(f)\n",
    "\n",
    "\n",
    "for i in range(5):\n",
    "    print(merged_json_data[i])"
   ]
  },
  {
   "cell_type": "code",
   "execution_count": null,
   "metadata": {},
   "outputs": [],
   "source": []
  }
 ],
 "metadata": {
  "kernelspec": {
   "display_name": "vqavcr2",
   "language": "python",
   "name": "vqavcr2"
  },
  "language_info": {
   "codemirror_mode": {
    "name": "ipython",
    "version": 3
   },
   "file_extension": ".py",
   "mimetype": "text/x-python",
   "name": "python",
   "nbconvert_exporter": "python",
   "pygments_lexer": "ipython3",
   "version": "3.7.13"
  },
  "orig_nbformat": 4
 },
 "nbformat": 4,
 "nbformat_minor": 2
}
