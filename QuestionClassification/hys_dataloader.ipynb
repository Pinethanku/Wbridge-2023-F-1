{
 "cells": [
  {
   "cell_type": "code",
   "execution_count": 9,
   "metadata": {},
   "outputs": [],
   "source": [
    "import json\n",
    "\n",
    "\n",
    "with open('/home/public/yunvqa/clip/clip/dataset/TDIUC/tdiuc/raw/annotations/OpenEnded_mscoco_train2014_questions.json', 'r') as f:\n",
    "    q_json_data = json.load(f)[\"questions\"]\n",
    "\n",
    "with open('/home/public/yunvqa/clip/clip/dataset/TDIUC/tdiuc/raw/annotations/mscoco_train2014_annotations.json', 'r') as f:\n",
    "    a_json_data = json.load(f)[\"annotations\"]\n",
    "    \n",
    "    \n",
    "    \n",
    "int2label = {\"color\" : 0, \n",
    "             \"object_presence\":1,  \n",
    "             \"absurd\":2, \n",
    "             \"counting\" : 3,\n",
    "             \"scene_recognition\" : 4, \n",
    "             \"object_recognition\" : 5,\n",
    "             \"positional_reasoning\" : 6,\n",
    "             \"attribute\" : 7,\n",
    "             \"sport_recognition\" : 8,\n",
    "             \"activity_recognition\": 9,\n",
    "             \"sentiment_understanding\" : 10,\n",
    "             \"utility_affordance\" : 11\n",
    "             \n",
    "             \n",
    "             }\n",
    "\n",
    "label2int = {0 : \"color\", \n",
    "             1 : \"object_presence\",  \n",
    "             2 : \"absurd\", \n",
    "             3 : \"counting\",\n",
    "             4 : \"scene_recognition\", \n",
    "             5 : \"object_recognition\",\n",
    "             6 : \"positional_reasoning\",\n",
    "             7 : \"attribute\",\n",
    "             8 : \"sport_recognition\",\n",
    "             9 : \"activity_recognition\",\n",
    "             10 : \"sentiment_understanding\",\n",
    "             11 : \"utility_affordance\"\n",
    "             \n",
    "             \n",
    "             }"
   ]
  },
  {
   "cell_type": "code",
   "execution_count": 10,
   "metadata": {},
   "outputs": [
    {
     "name": "stdout",
     "output_type": "stream",
     "text": [
      "{'label': 0, 'text': \"What color handle does the middle man's racquet have?\"}\n"
     ]
    }
   ],
   "source": [
    "def dataload(q_json_data, a_json_data):\n",
    "    \n",
    "    result_data = []\n",
    "    #for i in range (len(q_json_data)):\n",
    "    for i in range(len(q_json_data)):\n",
    "        result_data.append({ \"label\": int2label[a_json_data[i][\"question_type\"]],\"text\": q_json_data[i][\"question\"],})\n",
    "    return result_data\n",
    "\n",
    "result_data = dataload(q_json_data, a_json_data)\n",
    "print(result_data[0])\n"
   ]
  },
  {
   "cell_type": "code",
   "execution_count": 11,
   "metadata": {},
   "outputs": [
    {
     "name": "stdout",
     "output_type": "stream",
     "text": [
      "{'label': 0, 'text': 'What color is the oven?'}\n"
     ]
    }
   ],
   "source": [
    "from sklearn.model_selection import train_test_split\n",
    "tdiuc = {}\n",
    "\n",
    "X_train, X_test = train_test_split(result_data, test_size=0.3, random_state=123)\n",
    "\n",
    "tdiuc['test'] = X_test\n",
    "tdiuc['train'] = X_train\n",
    "\n",
    "print(tdiuc['test'][1])\n"
   ]
  }
 ],
 "metadata": {
  "kernelspec": {
   "display_name": "vqavcr2",
   "language": "python",
   "name": "python3"
  },
  "language_info": {
   "codemirror_mode": {
    "name": "ipython",
    "version": 3
   },
   "file_extension": ".py",
   "mimetype": "text/x-python",
   "name": "python",
   "nbconvert_exporter": "python",
   "pygments_lexer": "ipython3",
   "version": "3.7.13"
  },
  "orig_nbformat": 4
 },
 "nbformat": 4,
 "nbformat_minor": 2
}
